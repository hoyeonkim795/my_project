{
 "cells": [
  {
   "cell_type": "code",
   "execution_count": null,
   "metadata": {
    "collapsed": true,
    "deletable": true,
    "editable": true
   },
   "outputs": [],
   "source": [
    "\"\"\"\n",
    "1. include.ipynb의 dir_notebook, utility 경로 고치기\n",
    "2. \"\"           작동시 에러 발생하면 주석처리\n",
    "3. 경로 바꿔주기\n",
    "4. diamond 결과를 코드 이용하여 돌려보고 fuction의 list 구하기\n",
    "\n",
    "\"\"\""
   ]
  },
  {
   "cell_type": "code",
   "execution_count": null,
   "metadata": {
    "collapsed": true,
    "deletable": true,
    "editable": true
   },
   "outputs": [],
   "source": []
  },
  {
   "cell_type": "code",
   "execution_count": 1,
   "metadata": {
    "collapsed": false,
    "deletable": true,
    "editable": true
   },
   "outputs": [],
   "source": [
    "import os\n",
    "dir_notebook = os.getenv(\"HOME\") + \"/Dropbox/171204_졸논학부생/\"\n",
    "file_include = dir_notebook + \"_include_GM.ipynb\"\n",
    "%run $file_include"
   ]
  },
  {
   "cell_type": "code",
   "execution_count": 2,
   "metadata": {
    "collapsed": true,
    "deletable": true,
    "editable": true
   },
   "outputs": [],
   "source": [
    "dir_program = os.getenv(\"HOME\") + \"/Program/\"\n",
    "dir_cog = os.getenv(\"HOME\") + \"/COG/\""
   ]
  },
  {
   "cell_type": "code",
   "execution_count": 15,
   "metadata": {
    "collapsed": false,
    "deletable": true,
    "editable": true,
    "scrolled": true
   },
   "outputs": [],
   "source": [
    "\"\"\"\n",
    "dir_merge1 = dir_notebook + \"extract_fasta/Blood/*.faa\"\n",
    "lst_merge1 = glob.glob(dir_merge1)\n",
    "faa_merge = dir_notebook + \"extract_fasta/merge_blood.faa\"\n",
    "for x in lst_merge1 : \n",
    "    with open(x, 'r') as f, open (faa_merge, 'a') as g :\n",
    "        g.write(f.read() + '\\n')\n",
    "\"\"\""
   ]
  },
  {
   "cell_type": "code",
   "execution_count": 5,
   "metadata": {
    "collapsed": false,
    "deletable": true,
    "editable": true,
    "scrolled": true
   },
   "outputs": [],
   "source": [
    "# core and uniq group of each strains\n",
    "\n",
    "from IPython.display import clear_output\n",
    "\n",
    "path_diamond = dir_program + \"diamond-linux64/diamond\"\n",
    "path_db_cog = dir_cog + \"prot2003-2014.dmnd\" \n",
    "\n",
    "dir_glob = dir_notebook + \"faa/*/\"\n",
    "file_faa = dir_glob + '*.faa'\n",
    "lst_faa = glob.glob(file_faa)\n",
    "lst_faa.sort()\n",
    "\n",
    "for file0 in lst_faa :\n",
    "    file1 = file0.split('/')[-1].split('.faa')[0]\n",
    "    path_out = dir_cog + \"졸논result_by_group/cog_%s.out\" % file1\n",
    "    path_out = path_out.replace( \".faa\", \".out\" )\n",
    "\n",
    "    !$path_diamond blastp --db $path_db_cog --query $file0 --out $path_out\n",
    "   \n",
    "    clear_output()\n"
   ]
  },
  {
   "cell_type": "code",
   "execution_count": 7,
   "metadata": {
    "collapsed": false,
    "deletable": true,
    "editable": true
   },
   "outputs": [],
   "source": [
    "import cPickle as pickle\n",
    "f=open( os.getenv(\"HOME\") + \"/Dropbox/System_biology_lab/TEMPLATE/dic_cog.pickle\", 'rb')\n",
    "dic_cog = pickle.load(f)"
   ]
  },
  {
   "cell_type": "code",
   "execution_count": 8,
   "metadata": {
    "collapsed": false,
    "deletable": true,
    "editable": true,
    "scrolled": true
   },
   "outputs": [
    {
     "name": "stdout",
     "output_type": "stream",
     "text": [
      "/home/dre/Dropbox/171204_졸논학부생/faa/Blood/Blood_accessory_seq.faa 141\n",
      "13\n",
      "/home/dre/Dropbox/171204_졸논학부생/faa/Blood/Blood_core_seq.faa 340\n",
      "18\n",
      "/home/dre/Dropbox/171204_졸논학부생/faa/Blood/Blood_unique_seq.faa 5\n",
      "5\n",
      "/home/dre/Dropbox/171204_졸논학부생/faa/Feces/Feces_accessory_seq.faa 249\n",
      "21\n",
      "/home/dre/Dropbox/171204_졸논학부생/faa/Feces/Feces_core_seq.faa 220\n",
      "13\n",
      "/home/dre/Dropbox/171204_졸논학부생/faa/Feces/Feces_unique_seq.faa 8\n",
      "8\n",
      "/home/dre/Dropbox/171204_졸논학부생/faa/Food/Food_accessory_seq.faa 340\n",
      "42\n",
      "/home/dre/Dropbox/171204_졸논학부생/faa/Food/Food_core_seq.faa 140\n",
      "8\n",
      "/home/dre/Dropbox/171204_졸논학부생/faa/Food/Food_unique_seq.faa 14\n",
      "14\n",
      "['C', 'E', 'G', 'F', 'I', 'H', 'K', 'J', 'M', 'L', 'O', 'Q', 'P', 'R', 'T', 'V']\n"
     ]
    }
   ],
   "source": [
    "## test\n",
    "\n",
    "lst_merge = []\n",
    "\n",
    "for file0 in lst_faa :\n",
    "    file1 = file0.split('/')[-1].split('.faa')[0]\n",
    "    dic_anno = utility_fasta.read_fasta( file0 )\n",
    "    lst_genes = dic_anno.keys()\n",
    "    \n",
    "    path_out = dir_cog + \"졸논result_by_group/cog_%s.out\" % file1\n",
    "\n",
    "    if os.path.getsize(path_out) ==0 :\n",
    "        df_blast = pd.DataFrame()\n",
    "    else : \n",
    "        df_blast = pd.read_csv( path_out, sep = \"\\t\", header = -1 )\n",
    "        df_blast.columns = [ \"gene_id\", \"target\", \"pidentity\", \"length\", \"mismatch\", \"gapopen\", \"qstart\", \"qend\", \"sstart\", \"send\", \"evalue\", \"bitscore\" ]\n",
    "\n",
    "    dic_blast = {}\n",
    "    for idx, row in df_blast.iterrows() :\n",
    "        if row.gene_id not in dic_blast :\n",
    "            dic_blast[ row.gene_id ] = row\n",
    "    print file0, len( dic_blast )\n",
    "    \n",
    "    dic_cog0 = {}\n",
    "    count_gene_id = 0\n",
    "    for gene_id in lst_genes :\n",
    "        #dic_blast = Diamond result, gene_id = faa 파일의 locus_tag\n",
    "        if gene_id not in dic_blast :\n",
    "            count_gene_id +=1\n",
    "            protein_id = \"Unknown_%s\" %count_gene_id\n",
    "            \n",
    "        else : \n",
    "            row_blast = dic_blast[ gene_id ]\n",
    "    \n",
    "            protein_id = int( row_blast.target.split( \"|\" )[ 1 ] )\n",
    "        if protein_id not in dic_cog and protein_id != \"Unknown_%s\" %count_gene_id:\n",
    "            continue\n",
    "            \n",
    "        if protein_id != \"Unknown_%s\" %count_gene_id :\n",
    "            cog_group = dic_cog[ protein_id ]\n",
    "            dic_cog0[ protein_id ] = cog_group\n",
    "            \n",
    "        elif protein_id ==\"Unknown_%s\" %count_gene_id :\n",
    "            dic_cog0[ protein_id ] = 'S'\n",
    "    \n",
    "    #print count_gene_id\n",
    "    print len( dic_cog0 )\n",
    "    \n",
    "    lst_cog = []\n",
    "\n",
    "    for k, v in dic_cog0.items() :\n",
    "        lst_cog.extend( list( v ) )\n",
    "    \n",
    "    lst_cog = list(set(lst_cog))\n",
    "    lst_cog.sort()\n",
    "    lst_merge.extend(lst_cog)\n",
    "\n",
    "lst_merge = list(set(lst_merge))\n",
    "\n",
    "print lst_merge"
   ]
  },
  {
   "cell_type": "code",
   "execution_count": 10,
   "metadata": {
    "collapsed": true,
    "deletable": true,
    "editable": true
   },
   "outputs": [],
   "source": [
    "lst_all_func = ['M', 'O', 'T', 'V', 'J', 'K', 'L', 'C', 'E', 'F', 'G', 'H', 'I', 'P', 'Q', 'R']"
   ]
  },
  {
   "cell_type": "code",
   "execution_count": 11,
   "metadata": {
    "collapsed": false,
    "deletable": true,
    "editable": true,
    "scrolled": true
   },
   "outputs": [
    {
     "name": "stdout",
     "output_type": "stream",
     "text": [
      "/home/dre/Dropbox/171204_졸논학부생/faa/Blood/Blood_accessory_seq.faa 141\n",
      "13\n",
      "14\n",
      "{'O': 1, 'K': 1, 'M': 10, 'T': 1, 'G': 1}\n",
      "{'C': 0, 'E': 0, 'G': 1, 'F': 0, 'I': 0, 'H': 0, 'K': 1, 'J': 0, 'M': 10, 'L': 0, 'O': 1, 'Q': 0, 'P': 0, 'R': 0, 'T': 1, 'V': 0}\n",
      "/home/dre/Dropbox/171204_졸논학부생/faa/Blood/Blood_core_seq.faa 340\n",
      "18\n",
      "20\n",
      "{'C': 1, 'G': 1, 'F': 2, 'I': 1, 'K': 2, 'J': 2, 'M': 3, 'O': 5, 'P': 1, 'T': 2}\n",
      "{'C': 1, 'E': 0, 'G': 1, 'F': 2, 'I': 1, 'H': 0, 'K': 2, 'J': 2, 'M': 3, 'L': 0, 'O': 5, 'Q': 0, 'P': 1, 'R': 0, 'T': 2, 'V': 0}\n",
      "/home/dre/Dropbox/171204_졸논학부생/faa/Blood/Blood_unique_seq.faa 5\n",
      "5\n",
      "5\n",
      "{'E': 1, 'K': 1, 'M': 1, 'H': 1, 'V': 1}\n",
      "{'C': 0, 'E': 1, 'G': 0, 'F': 0, 'I': 0, 'H': 1, 'K': 1, 'J': 0, 'M': 1, 'L': 0, 'O': 0, 'Q': 0, 'P': 0, 'R': 0, 'T': 0, 'V': 1}\n",
      "/home/dre/Dropbox/171204_졸논학부생/faa/Feces/Feces_accessory_seq.faa 249\n",
      "21\n",
      "21\n",
      "{'C': 1, 'E': 2, 'I': 1, 'J': 2, 'M': 11, 'O': 4}\n",
      "{'C': 1, 'E': 2, 'G': 0, 'F': 0, 'I': 1, 'H': 0, 'K': 0, 'J': 2, 'M': 11, 'L': 0, 'O': 4, 'Q': 0, 'P': 0, 'R': 0, 'T': 0, 'V': 0}\n",
      "/home/dre/Dropbox/171204_졸논학부생/faa/Feces/Feces_core_seq.faa 220\n",
      "13\n",
      "16\n",
      "{'P': 1, 'T': 3, 'G': 3, 'F': 2, 'K': 3, 'M': 1, 'O': 3}\n",
      "{'C': 0, 'E': 0, 'G': 3, 'F': 2, 'I': 0, 'H': 0, 'K': 3, 'J': 0, 'M': 1, 'L': 0, 'O': 3, 'Q': 0, 'P': 1, 'R': 0, 'T': 3, 'V': 0}\n",
      "/home/dre/Dropbox/171204_졸논학부생/faa/Feces/Feces_unique_seq.faa 8\n",
      "8\n",
      "10\n",
      "{'Q': 1, 'R': 1, 'V': 1, 'I': 2, 'M': 4, 'O': 1}\n",
      "{'C': 0, 'E': 0, 'G': 0, 'F': 0, 'I': 2, 'H': 0, 'K': 0, 'J': 0, 'M': 4, 'L': 0, 'O': 1, 'Q': 1, 'P': 0, 'R': 1, 'T': 0, 'V': 1}\n",
      "/home/dre/Dropbox/171204_졸논학부생/faa/Food/Food_accessory_seq.faa 340\n",
      "42\n",
      "44\n",
      "{'C': 2, 'E': 2, 'G': 1, 'F': 2, 'I': 3, 'H': 1, 'K': 4, 'J': 4, 'M': 14, 'L': 2, 'O': 4, 'P': 1, 'T': 2, 'V': 2}\n",
      "{'C': 2, 'E': 2, 'G': 1, 'F': 2, 'I': 3, 'H': 1, 'K': 4, 'J': 4, 'M': 14, 'L': 2, 'O': 4, 'Q': 0, 'P': 1, 'R': 0, 'T': 2, 'V': 2}\n",
      "/home/dre/Dropbox/171204_졸논학부생/faa/Food/Food_core_seq.faa 140\n",
      "8\n",
      "9\n",
      "{'K': 1, 'M': 2, 'O': 4, 'G': 1, 'T': 1}\n",
      "{'C': 0, 'E': 0, 'G': 1, 'F': 0, 'I': 0, 'H': 0, 'K': 1, 'J': 0, 'M': 2, 'L': 0, 'O': 4, 'Q': 0, 'P': 0, 'R': 0, 'T': 1, 'V': 0}\n",
      "/home/dre/Dropbox/171204_졸논학부생/faa/Food/Food_unique_seq.faa 14\n",
      "14\n",
      "15\n",
      "{'C': 1, 'E': 1, 'G': 1, 'K': 2, 'J': 2, 'M': 4, 'O': 2, 'P': 1, 'R': 1}\n",
      "{'C': 1, 'E': 1, 'G': 1, 'F': 0, 'I': 0, 'H': 0, 'K': 2, 'J': 2, 'M': 4, 'L': 0, 'O': 2, 'Q': 0, 'P': 1, 'R': 1, 'T': 0, 'V': 0}\n"
     ]
    }
   ],
   "source": [
    "for file0 in lst_faa :\n",
    "    file1 = file0.split('/')[-1].split('.faa')[0]\n",
    "    dic_anno = utility_fasta.read_fasta( file0 )\n",
    "    lst_genes = dic_anno.keys()\n",
    "    \n",
    "    path_out = dir_cog + \"졸논result_by_group/cog_%s.out\" % file1\n",
    "\n",
    "    if os.path.getsize(path_out) ==0 :\n",
    "        df_blast = pd.DataFrame()\n",
    "    else : \n",
    "        df_blast = pd.read_csv( path_out, sep = \"\\t\", header = -1 )\n",
    "        df_blast.columns = [ \"gene_id\", \"target\", \"pidentity\", \"length\", \"mismatch\", \"gapopen\", \"qstart\", \"qend\", \"sstart\", \"send\", \"evalue\", \"bitscore\" ]\n",
    "\n",
    "    dic_blast = {}\n",
    "    for idx, row in df_blast.iterrows() :\n",
    "        if row.gene_id not in dic_blast :\n",
    "            dic_blast[ row.gene_id ] = row\n",
    "    print file0, len( dic_blast )\n",
    "    \n",
    "    dic_cog0 = {}\n",
    "    count_gene_id = 0\n",
    "    for gene_id in lst_genes :\n",
    "        #dic_blast = Diamond result, gene_id = faa 파일의 locus_tag\n",
    "        if gene_id not in dic_blast :\n",
    "            count_gene_id +=1\n",
    "            protein_id = \"Unknown_%s\" %count_gene_id\n",
    "            \n",
    "        else : \n",
    "            row_blast = dic_blast[ gene_id ]\n",
    "    \n",
    "            protein_id = int( row_blast.target.split( \"|\" )[ 1 ] )\n",
    "        if protein_id not in dic_cog and protein_id != \"Unknown_%s\" %count_gene_id:\n",
    "            continue\n",
    "            \n",
    "        if protein_id != \"Unknown_%s\" %count_gene_id :\n",
    "            cog_group = dic_cog[ protein_id ]\n",
    "            dic_cog0[ protein_id ] = cog_group\n",
    "            \n",
    "        elif protein_id ==\"Unknown_%s\" %count_gene_id :\n",
    "            dic_cog0[ protein_id ] = 'S'\n",
    "    \n",
    "    #print count_gene_id\n",
    "    print len( dic_cog0 )\n",
    "    \n",
    "    lst_cog = []\n",
    "\n",
    "    for k, v in dic_cog0.items() :\n",
    "        lst_cog.extend( list( v ) )\n",
    "    \n",
    "    print len(lst_cog)\n",
    "    \n",
    "    import collections\n",
    "    c = collections.Counter( lst_cog )\n",
    "    dic_c = dict(c)\n",
    "    \n",
    "    print dic_c\n",
    "    \n",
    "    for func in lst_all_func :\n",
    "        if func not in dic_c :\n",
    "            dic_c[func] = 0\n",
    "    print dic_c\n",
    "    \n",
    "    pickle_dic_c = dir_notebook + \"pickle_of_dic_c_by_group/dic_%s.pickle\" %file1\n",
    "    with open (pickle_dic_c, 'wb') as f:\n",
    "        pickle.dump(dic_c, f)"
   ]
  },
  {
   "cell_type": "markdown",
   "metadata": {
    "collapsed": true,
    "deletable": true,
    "editable": true
   },
   "source": [
    "### 끝 : pie_chart_그리는_.ipynb로 넘어가기"
   ]
  },
  {
   "cell_type": "code",
   "execution_count": null,
   "metadata": {
    "collapsed": true,
    "deletable": true,
    "editable": true
   },
   "outputs": [],
   "source": []
  }
 ],
 "metadata": {
  "kernelspec": {
   "display_name": "Python 2",
   "language": "python",
   "name": "python2"
  },
  "language_info": {
   "codemirror_mode": {
    "name": "ipython",
    "version": 2
   },
   "file_extension": ".py",
   "mimetype": "text/x-python",
   "name": "python",
   "nbconvert_exporter": "python",
   "pygments_lexer": "ipython2",
   "version": "2.7.12"
  }
 },
 "nbformat": 4,
 "nbformat_minor": 2
}
