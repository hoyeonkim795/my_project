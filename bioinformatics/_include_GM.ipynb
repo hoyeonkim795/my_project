{
 "cells": [
  {
   "cell_type": "code",
   "execution_count": 2,
   "metadata": {
    "collapsed": false,
    "deletable": true,
    "editable": true
   },
   "outputs": [],
   "source": [
    "import sys\n",
    "import os\n",
    "import pandas as pd\n",
    "import scipy as sp\n",
    "import scipy.stats as sps\n",
    "import scipy.io as spio\n",
    "import glob\n",
    "from cPickle import load\n",
    "import pickle\n",
    "import math\n",
    "import subprocess\n",
    "import numpy as np\n",
    "import pylab as pyl\n",
    "import matplotlib.pyplot as plt\n",
    "import matplotlib.image as pli\n",
    "from IPython.core.display import Image\n",
    "from Bio import SeqIO\n",
    "from Bio.Seq import Seq\n",
    "from Bio import motifs\n",
    "#from sequtil import enrichment\n",
    "\n",
    "from Bio import GenBank\n",
    "import operator\n",
    "\n",
    "%matplotlib inline\n",
    "pd.set_option( \"display.width\", 1000)\n",
    "\n",
    "dir_home = os.getenv( \"HOME\" )\n",
    "dir_notebook = dir_home + \"/Dropbox/171204_졸논학부생/\"\n",
    "dir_seed = dir_home + \"/Dropbox/System_biology_lab/_library/\"\n",
    "#dir_conservation = dir_home + \"/Works/ipython_notebook/_library/conservation/\"\n",
    "\n",
    "sys.path.append( dir_home + \"/Dropbox/System_biology_lab/_library/\" )\n",
    "sys.path.append( dir_seed )\n",
    "\n",
    "#import perl_adaptor\n",
    "import utility_annotation\n",
    "import utility_chipexo\n",
    "import utility_diff\n",
    "import utility_enrichment\n",
    "import utility_fasta\n",
    "import utility_gff\n",
    "import utility_regulondb\n",
    "import utility_string\n",
    "import utility_file\n",
    "\n",
    "#import cobra\n",
    "#import cobra.test\n",
    "#import visbio\n",
    "\n",
    "\n"
   ]
  },
  {
   "cell_type": "code",
   "execution_count": null,
   "metadata": {
    "collapsed": true,
    "deletable": true,
    "editable": true
   },
   "outputs": [],
   "source": []
  }
 ],
 "metadata": {
  "kernelspec": {
   "display_name": "Python 2",
   "language": "python",
   "name": "python2"
  },
  "language_info": {
   "codemirror_mode": {
    "name": "ipython",
    "version": 2
   },
   "file_extension": ".py",
   "mimetype": "text/x-python",
   "name": "python",
   "nbconvert_exporter": "python",
   "pygments_lexer": "ipython2",
   "version": "2.7.12"
  }
 },
 "nbformat": 4,
 "nbformat_minor": 0
}
